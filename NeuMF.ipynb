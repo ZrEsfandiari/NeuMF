{
  "nbformat": 4,
  "nbformat_minor": 0,
  "metadata": {
    "colab": {
      "name": "NeuMF.ipynb",
      "provenance": [],
      "collapsed_sections": []
    },
    "kernelspec": {
      "display_name": "Python 3",
      "name": "python3"
    },
    "language_info": {
      "name": "python"
    }
  },
  "cells": [
    {
      "cell_type": "markdown",
      "metadata": {
        "id": "urmTy9WsSpQm"
      },
      "source": [
        "Neural Matrix Factorization"
      ]
    },
    {
      "cell_type": "code",
      "metadata": {
        "id": "lsp-ogXXuB17"
      },
      "source": [
        "import tensorflow as tf\n",
        "import pandas as pd\n",
        "import numpy as np\n",
        "import seaborn as sns\n",
        "import matplotlib.pyplot as plt\n",
        "import os"
      ],
      "execution_count": 150,
      "outputs": []
    },
    {
      "cell_type": "markdown",
      "metadata": {
        "id": "_axJxfMPSxab"
      },
      "source": [
        "Exploratory Data"
      ]
    },
    {
      "cell_type": "code",
      "metadata": {
        "colab": {
          "base_uri": "https://localhost:8080/",
          "height": 204
        },
        "id": "kQSMA4gBuElU",
        "outputId": "c8c3d24c-4c96-4c3c-b295-b683b8af250f"
      },
      "source": [
        "#Loads Dataset,  drop timestamp and genres form ratings.csv and movies.csv files\n",
        "ratings_df = pd.read_csv('/content/drive/MyDrive/ml-latest-small/ratings.csv').drop([\"timestamp\"], axis=1)\n",
        "movies_df = pd.read_csv('/content/drive/MyDrive/ml-latest-small/movies.csv').drop([\"genres\"], axis=1)\n",
        "\n",
        "ml_df = ratings_df.merge(movies_df, on=\"movieId\")\n",
        "ml_df = ml_df.reindex(columns=[\"userId\", \"movieId\", \"title\", \"rating\"])\n",
        "ml_df.head() "
      ],
      "execution_count": 151,
      "outputs": [
        {
          "output_type": "execute_result",
          "data": {
            "text/html": [
              "<div>\n",
              "<style scoped>\n",
              "    .dataframe tbody tr th:only-of-type {\n",
              "        vertical-align: middle;\n",
              "    }\n",
              "\n",
              "    .dataframe tbody tr th {\n",
              "        vertical-align: top;\n",
              "    }\n",
              "\n",
              "    .dataframe thead th {\n",
              "        text-align: right;\n",
              "    }\n",
              "</style>\n",
              "<table border=\"1\" class=\"dataframe\">\n",
              "  <thead>\n",
              "    <tr style=\"text-align: right;\">\n",
              "      <th></th>\n",
              "      <th>userId</th>\n",
              "      <th>movieId</th>\n",
              "      <th>title</th>\n",
              "      <th>rating</th>\n",
              "    </tr>\n",
              "  </thead>\n",
              "  <tbody>\n",
              "    <tr>\n",
              "      <th>0</th>\n",
              "      <td>1</td>\n",
              "      <td>1</td>\n",
              "      <td>Toy Story (1995)</td>\n",
              "      <td>4.0</td>\n",
              "    </tr>\n",
              "    <tr>\n",
              "      <th>1</th>\n",
              "      <td>5</td>\n",
              "      <td>1</td>\n",
              "      <td>Toy Story (1995)</td>\n",
              "      <td>4.0</td>\n",
              "    </tr>\n",
              "    <tr>\n",
              "      <th>2</th>\n",
              "      <td>7</td>\n",
              "      <td>1</td>\n",
              "      <td>Toy Story (1995)</td>\n",
              "      <td>4.5</td>\n",
              "    </tr>\n",
              "    <tr>\n",
              "      <th>3</th>\n",
              "      <td>15</td>\n",
              "      <td>1</td>\n",
              "      <td>Toy Story (1995)</td>\n",
              "      <td>2.5</td>\n",
              "    </tr>\n",
              "    <tr>\n",
              "      <th>4</th>\n",
              "      <td>17</td>\n",
              "      <td>1</td>\n",
              "      <td>Toy Story (1995)</td>\n",
              "      <td>4.5</td>\n",
              "    </tr>\n",
              "  </tbody>\n",
              "</table>\n",
              "</div>"
            ],
            "text/plain": [
              "   userId  movieId             title  rating\n",
              "0       1        1  Toy Story (1995)     4.0\n",
              "1       5        1  Toy Story (1995)     4.0\n",
              "2       7        1  Toy Story (1995)     4.5\n",
              "3      15        1  Toy Story (1995)     2.5\n",
              "4      17        1  Toy Story (1995)     4.5"
            ]
          },
          "metadata": {},
          "execution_count": 151
        }
      ]
    },
    {
      "cell_type": "code",
      "metadata": {
        "colab": {
          "base_uri": "https://localhost:8080/"
        },
        "id": "_XYDEDPL02EH",
        "outputId": "e7f64c6f-5e0c-441e-ba8b-a03140bc720e"
      },
      "source": [
        "#Check info about the Dataset\n",
        "ml_df.info()"
      ],
      "execution_count": 152,
      "outputs": [
        {
          "output_type": "stream",
          "text": [
            "<class 'pandas.core.frame.DataFrame'>\n",
            "Int64Index: 100836 entries, 0 to 100835\n",
            "Data columns (total 4 columns):\n",
            " #   Column   Non-Null Count   Dtype  \n",
            "---  ------   --------------   -----  \n",
            " 0   userId   100836 non-null  int64  \n",
            " 1   movieId  100836 non-null  int64  \n",
            " 2   title    100836 non-null  object \n",
            " 3   rating   100836 non-null  float64\n",
            "dtypes: float64(1), int64(2), object(1)\n",
            "memory usage: 3.8+ MB\n"
          ],
          "name": "stdout"
        }
      ]
    },
    {
      "cell_type": "code",
      "metadata": {
        "colab": {
          "base_uri": "https://localhost:8080/"
        },
        "id": "09_vae38Q2jM",
        "outputId": "370e1833-c501-4aea-ea67-1011c7c9e771"
      },
      "source": [
        "#Check for NaNs\n",
        "ml_df.isna().sum()"
      ],
      "execution_count": 153,
      "outputs": [
        {
          "output_type": "execute_result",
          "data": {
            "text/plain": [
              "userId     0\n",
              "movieId    0\n",
              "title      0\n",
              "rating     0\n",
              "dtype: int64"
            ]
          },
          "metadata": {},
          "execution_count": 153
        }
      ]
    },
    {
      "cell_type": "code",
      "metadata": {
        "colab": {
          "base_uri": "https://localhost:8080/"
        },
        "id": "Runz3T_HQ23l",
        "outputId": "b23ad281-7cee-49ee-a396-91ab8e0d0fbc"
      },
      "source": [
        "#List unique values of each column\n",
        "n_users = ml_df[\"userId\"].max()\n",
        "n_movies = ml_df[\"movieId\"].nunique()\n",
        "\n",
        "print(\"Unique Users: \" + str(n_users))\n",
        "print(\"Unique Movies: \" + str(n_movies))"
      ],
      "execution_count": 154,
      "outputs": [
        {
          "output_type": "stream",
          "text": [
            "Unique Users: 610\n",
            "Unique Movies: 9724\n"
          ],
          "name": "stdout"
        }
      ]
    },
    {
      "cell_type": "markdown",
      "metadata": {
        "id": "xtha2zEWRBjW"
      },
      "source": [
        "Preprocessing"
      ]
    },
    {
      "cell_type": "code",
      "metadata": {
        "colab": {
          "base_uri": "https://localhost:8080/",
          "height": 204
        },
        "id": "XsSw_L6AQ3aw",
        "outputId": "a507781f-3fcf-4ee1-d8ce-ed1dde1aa05c"
      },
      "source": [
        "#Encode ratings, encode the probability of relevance of the item for the user\n",
        "ml_df[\"relevance\"] = (ml_df[\"rating\"] >= 5.0).astype(dtype=float)\n",
        "\n",
        "#Set Ids as categorical data\n",
        "ml_df[\"userId\"] = ml_df[\"userId\"].astype(\"category\").cat.codes.values\n",
        "ml_df[\"movieId\"] = ml_df[\"movieId\"].astype(\"category\").cat.codes.values\n",
        "\n",
        "ml_df.head()"
      ],
      "execution_count": 155,
      "outputs": [
        {
          "output_type": "execute_result",
          "data": {
            "text/html": [
              "<div>\n",
              "<style scoped>\n",
              "    .dataframe tbody tr th:only-of-type {\n",
              "        vertical-align: middle;\n",
              "    }\n",
              "\n",
              "    .dataframe tbody tr th {\n",
              "        vertical-align: top;\n",
              "    }\n",
              "\n",
              "    .dataframe thead th {\n",
              "        text-align: right;\n",
              "    }\n",
              "</style>\n",
              "<table border=\"1\" class=\"dataframe\">\n",
              "  <thead>\n",
              "    <tr style=\"text-align: right;\">\n",
              "      <th></th>\n",
              "      <th>userId</th>\n",
              "      <th>movieId</th>\n",
              "      <th>title</th>\n",
              "      <th>rating</th>\n",
              "      <th>relevance</th>\n",
              "    </tr>\n",
              "  </thead>\n",
              "  <tbody>\n",
              "    <tr>\n",
              "      <th>0</th>\n",
              "      <td>0</td>\n",
              "      <td>0</td>\n",
              "      <td>Toy Story (1995)</td>\n",
              "      <td>4.0</td>\n",
              "      <td>0.0</td>\n",
              "    </tr>\n",
              "    <tr>\n",
              "      <th>1</th>\n",
              "      <td>4</td>\n",
              "      <td>0</td>\n",
              "      <td>Toy Story (1995)</td>\n",
              "      <td>4.0</td>\n",
              "      <td>0.0</td>\n",
              "    </tr>\n",
              "    <tr>\n",
              "      <th>2</th>\n",
              "      <td>6</td>\n",
              "      <td>0</td>\n",
              "      <td>Toy Story (1995)</td>\n",
              "      <td>4.5</td>\n",
              "      <td>0.0</td>\n",
              "    </tr>\n",
              "    <tr>\n",
              "      <th>3</th>\n",
              "      <td>14</td>\n",
              "      <td>0</td>\n",
              "      <td>Toy Story (1995)</td>\n",
              "      <td>2.5</td>\n",
              "      <td>0.0</td>\n",
              "    </tr>\n",
              "    <tr>\n",
              "      <th>4</th>\n",
              "      <td>16</td>\n",
              "      <td>0</td>\n",
              "      <td>Toy Story (1995)</td>\n",
              "      <td>4.5</td>\n",
              "      <td>0.0</td>\n",
              "    </tr>\n",
              "  </tbody>\n",
              "</table>\n",
              "</div>"
            ],
            "text/plain": [
              "   userId  movieId             title  rating  relevance\n",
              "0       0        0  Toy Story (1995)     4.0        0.0\n",
              "1       4        0  Toy Story (1995)     4.0        0.0\n",
              "2       6        0  Toy Story (1995)     4.5        0.0\n",
              "3      14        0  Toy Story (1995)     2.5        0.0\n",
              "4      16        0  Toy Story (1995)     4.5        0.0"
            ]
          },
          "metadata": {},
          "execution_count": 155
        }
      ]
    },
    {
      "cell_type": "code",
      "metadata": {
        "colab": {
          "base_uri": "https://localhost:8080/",
          "height": 204
        },
        "id": "p2sEYONKQ3pi",
        "outputId": "2ad1e6e8-5d79-4e77-d64b-950cad97ad4f"
      },
      "source": [
        "#Shuffle Dataframe\n",
        "ml_df = ml_df.sample(frac=1.0).reset_index(drop=True)\n",
        "ml_df.head()"
      ],
      "execution_count": 156,
      "outputs": [
        {
          "output_type": "execute_result",
          "data": {
            "text/html": [
              "<div>\n",
              "<style scoped>\n",
              "    .dataframe tbody tr th:only-of-type {\n",
              "        vertical-align: middle;\n",
              "    }\n",
              "\n",
              "    .dataframe tbody tr th {\n",
              "        vertical-align: top;\n",
              "    }\n",
              "\n",
              "    .dataframe thead th {\n",
              "        text-align: right;\n",
              "    }\n",
              "</style>\n",
              "<table border=\"1\" class=\"dataframe\">\n",
              "  <thead>\n",
              "    <tr style=\"text-align: right;\">\n",
              "      <th></th>\n",
              "      <th>userId</th>\n",
              "      <th>movieId</th>\n",
              "      <th>title</th>\n",
              "      <th>rating</th>\n",
              "      <th>relevance</th>\n",
              "    </tr>\n",
              "  </thead>\n",
              "  <tbody>\n",
              "    <tr>\n",
              "      <th>0</th>\n",
              "      <td>551</td>\n",
              "      <td>4403</td>\n",
              "      <td>Charlie's Angels: Full Throttle (2003)</td>\n",
              "      <td>2.0</td>\n",
              "      <td>0.0</td>\n",
              "    </tr>\n",
              "    <tr>\n",
              "      <th>1</th>\n",
              "      <td>219</td>\n",
              "      <td>3814</td>\n",
              "      <td>Spider-Man (2002)</td>\n",
              "      <td>4.5</td>\n",
              "      <td>0.0</td>\n",
              "    </tr>\n",
              "    <tr>\n",
              "      <th>2</th>\n",
              "      <td>447</td>\n",
              "      <td>777</td>\n",
              "      <td>20,000 Leagues Under the Sea (1954)</td>\n",
              "      <td>3.0</td>\n",
              "      <td>0.0</td>\n",
              "    </tr>\n",
              "    <tr>\n",
              "      <th>3</th>\n",
              "      <td>181</td>\n",
              "      <td>3812</td>\n",
              "      <td>Deuces Wild (2002)</td>\n",
              "      <td>3.0</td>\n",
              "      <td>0.0</td>\n",
              "    </tr>\n",
              "    <tr>\n",
              "      <th>4</th>\n",
              "      <td>537</td>\n",
              "      <td>792</td>\n",
              "      <td>Sound of Music, The (1965)</td>\n",
              "      <td>5.0</td>\n",
              "      <td>1.0</td>\n",
              "    </tr>\n",
              "  </tbody>\n",
              "</table>\n",
              "</div>"
            ],
            "text/plain": [
              "   userId  movieId                                   title  rating  relevance\n",
              "0     551     4403  Charlie's Angels: Full Throttle (2003)     2.0        0.0\n",
              "1     219     3814                       Spider-Man (2002)     4.5        0.0\n",
              "2     447      777     20,000 Leagues Under the Sea (1954)     3.0        0.0\n",
              "3     181     3812                      Deuces Wild (2002)     3.0        0.0\n",
              "4     537      792              Sound of Music, The (1965)     5.0        1.0"
            ]
          },
          "metadata": {},
          "execution_count": 156
        }
      ]
    },
    {
      "cell_type": "code",
      "metadata": {
        "colab": {
          "base_uri": "https://localhost:8080/",
          "height": 330
        },
        "id": "2vBtPqeuQ35t",
        "outputId": "8238d7c4-ee29-4f7f-a464-c2e12f310553"
      },
      "source": [
        "#Test for negative sampling ratio\n",
        "rel = (ml_df[\"relevance\"] == 1.0).sum()\n",
        "non_rel = (ml_df[\"relevance\"] != 1.0).sum()\n",
        "print(\"relevance number:     \", rel ,\"\\nnon-relevance number: \", non_rel)\n",
        "\n",
        "sns.countplot(x=\"relevance\", data=ml_df)\n",
        "plt.show()\n",
        "print(\"Negative Sampling Ratio: \" + str(non_rel / rel))"
      ],
      "execution_count": 157,
      "outputs": [
        {
          "output_type": "stream",
          "text": [
            "relevance number:      13211 \n",
            "non-relevance number:  87625\n"
          ],
          "name": "stdout"
        },
        {
          "output_type": "display_data",
          "data": {
            "image/png": "[encoded data removed]",
            "text/plain": [
              "<Figure size 432x288 with 1 Axes>"
            ]
          },
          "metadata": {
            "needs_background": "light"
          }
        },
        {
          "output_type": "stream",
          "text": [
            "Negative Sampling Ratio: 6.632730300507153\n"
          ],
          "name": "stdout"
        }
      ]
    },
    {
      "cell_type": "code",
      "metadata": {
        "id": "Q-XB4K3cRHzg"
      },
      "source": [
        "#Split dataset between train, eval and test\n",
        "full_df = ml_df\n",
        "eval_df = full_df.sample(frac=0.05)\n",
        "full_df = full_df.drop(eval_df.index)\n",
        "test_df = full_df.sample(frac=0.05)\n",
        "train_df = full_df.drop(test_df.index)"
      ],
      "execution_count": 158,
      "outputs": []
    },
    {
      "cell_type": "code",
      "metadata": {
        "colab": {
          "base_uri": "https://localhost:8080/"
        },
        "id": "671bKoOiRIBx",
        "outputId": "4327f2ba-fa4c-481f-a0c4-d87c8c3c6ee8"
      },
      "source": [
        "#Store number of datapoints in each dataset\n",
        "train_count = train_df.shape[0]\n",
        "eval_count = eval_df.shape[0]\n",
        "test_count = test_df.shape[0]\n",
        "print(\"Train samples: \" + str(train_count))\n",
        "print(\"Evaluation samples: \" + str(eval_count))\n",
        "print(\"Test samples: \" + str(test_count))"
      ],
      "execution_count": 159,
      "outputs": [
        {
          "output_type": "stream",
          "text": [
            "Train samples: 91004\n",
            "Evaluation samples: 5042\n",
            "Test samples: 4790\n"
          ],
          "name": "stdout"
        }
      ]
    },
    {
      "cell_type": "code",
      "metadata": {
        "id": "yandnaPNRIXp"
      },
      "source": [
        "#Create Datasets for train, evaluation and testing\n",
        "train_ds = tf.data.Dataset.from_tensor_slices(({\"userId\":train_df[\"userId\"],\n",
        "                                                \"movieId\":train_df[\"movieId\"]},\n",
        "                                                train_df[\"relevance\"].values.reshape([-1, 1]))).shuffle(4196)\n",
        "\n",
        "eval_ds = tf.data.Dataset.from_tensor_slices(({\"userId\":eval_df[\"userId\"],\n",
        "                                               \"movieId\":eval_df[\"movieId\"]},\n",
        "                                               eval_df[\"relevance\"].values.reshape([-1, 1]))).batch(eval_count)\n",
        "\n",
        "test_ds = tf.data.Dataset.from_tensor_slices(({\"userId\":test_df[\"userId\"],\n",
        "                                               \"movieId\":test_df[\"movieId\"]}, \n",
        "                                               test_df[\"relevance\"].values.reshape([-1, 1]))).batch(test_count)"
      ],
      "execution_count": 160,
      "outputs": []
    },
    {
      "cell_type": "markdown",
      "metadata": {
        "id": "KXsl61miS6bz"
      },
      "source": [
        "Generalized Matrix Factorization"
      ]
    },
    {
      "cell_type": "code",
      "metadata": {
        "id": "jylDIABRRInL"
      },
      "source": [
        "class DenseBlock(tf.keras.layers.Layer):\n",
        "\n",
        "  def __init__(self, units, activation=\"relu\", dropout=0.1, l2=0.001):\n",
        "    super(DenseBlock, self).__init__()\n",
        "\n",
        "    self.bn = tf.keras.layers.BatchNormalization()\n",
        "    self.drop = tf.keras.layers.Dropout(dropout)\n",
        "    self.dense = tf.keras.layers.Dense(units, \n",
        "                                       activation,\n",
        "                                       kernel_regularizer=tf.keras.regularizers.L1L2(l2=l2),\n",
        "                                       kernel_constraint=tf.keras.constraints.UnitNorm())\n",
        "    \n",
        "  def call(self, inputs):\n",
        "    X = self.bn(inputs)\n",
        "    X = self.drop(X)\n",
        "    X = self.dense(X)\n",
        "    return X"
      ],
      "execution_count": 161,
      "outputs": []
    },
    {
      "cell_type": "code",
      "metadata": {
        "id": "opd4F055RI6Z"
      },
      "source": [
        "class GeneralizedMatrixFactorizer(tf.keras.Model):\n",
        "\n",
        "  def __init__(self, \n",
        "               alpha_dim, \n",
        "               beta_dim, \n",
        "               latent_dim,\n",
        "               output_dim,\n",
        "               output_activation=\"sigmoid\",\n",
        "               use_bias=False, \n",
        "               dropout=0.1, \n",
        "               l2=1e-5, \n",
        "               alpha_key=\"alpha\", \n",
        "               beta_key=\"beta\"):\n",
        "    \n",
        "    super(GeneralizedMatrixFactorizer, self).__init__()\n",
        "\n",
        "    self.use_bias = use_bias\n",
        "    self.alpha_key = alpha_key\n",
        "    self.beta_key = beta_key\n",
        "\n",
        "    self.alpha_emb = tf.keras.layers.Embedding(alpha_dim, latent_dim, \n",
        "                                               embeddings_regularizer=tf.keras.regularizers.L1L2(l2=l2))\n",
        "    \n",
        "    self.beta_emb = tf.keras.layers.Embedding(beta_dim, latent_dim, \n",
        "                                              embeddings_regularizer=tf.keras.regularizers.L1L2(l2=l2))\n",
        "\n",
        "    if(use_bias):\n",
        "      self.alpha_bias = tf.keras.layers.Embedding(alpha_dim, 1)\n",
        "      self.beta_bias = tf.keras.layers.Embedding(beta_dim, 1)\n",
        "    \n",
        "    self.flat = tf.keras.layers.Flatten()\n",
        "    self.mul = tf.keras.layers.Multiply()    #Element-wise Product of Embeddings \n",
        "    self.out = DenseBlock(output_dim, output_activation, dropout, l2)\n",
        "\n",
        "\n",
        "  def call(self, inputs):\n",
        "\n",
        "    alpha_emb = self.alpha_emb(inputs[self.alpha_key])\n",
        "    alpha_emb = self.flat(alpha_emb)\n",
        "    beta_emb = self.beta_emb(inputs[self.beta_key])\n",
        "    beta_emb = self.flat(beta_emb)\n",
        "\n",
        "    X = self.mul([alpha_emb, beta_emb]) \n",
        "\n",
        "    if(self.use_bias): \n",
        "      alpha_bias = self.alpha_bias(inputs[self.alpha_key])\n",
        "      alpha_bias = self.flat(alpha_bias)\n",
        "      beta_bias = self.beta_bias(inputs[self.beta_key])\n",
        "      beta_bias = self.flat(beta_bias)\n",
        "      bias = tf.add(alpha_bias, beta_bias)\n",
        "      X = tf.add(X, bias)\n",
        "\n",
        "    X = self.out(X)\n",
        "    return X   "
      ],
      "execution_count": 162,
      "outputs": []
    },
    {
      "cell_type": "code",
      "metadata": {
        "id": "3KJVp1IDTTc8"
      },
      "source": [
        "#Hyper-parameters\n",
        "gmf_params = {\"alpha_dim\":n_users,\n",
        "              \"beta_dim\":n_movies,\n",
        "              \"latent_dim\":8,\n",
        "              \"output_dim\":1,\n",
        "              \"output_activation\":\"sigmoid\",\n",
        "              \"use_bias\":False,\n",
        "              \"dropout\":0.4,\n",
        "              \"l2\":0.001,\n",
        "              \"learning_rate\":0.001,\n",
        "              \"batch_size\":256,\n",
        "              \"epochs\":50}"
      ],
      "execution_count": 163,
      "outputs": []
    },
    {
      "cell_type": "code",
      "metadata": {
        "id": "SQ17UZZQRgNV"
      },
      "source": [
        "#Instantiation\n",
        "gmf = GeneralizedMatrixFactorizer(alpha_dim=gmf_params[\"alpha_dim\"], \n",
        "                                  beta_dim=gmf_params[\"beta_dim\"], \n",
        "                                  latent_dim = gmf_params[\"latent_dim\"], \n",
        "                                  output_dim=gmf_params[\"output_dim\"], \n",
        "                                  output_activation=gmf_params[\"output_activation\"],\n",
        "                                  use_bias=gmf_params[\"use_bias\"],\n",
        "                                  dropout=gmf_params[\"dropout\"],\n",
        "                                  l2=gmf_params[\"l2\"], \n",
        "                                  alpha_key=\"userId\", \n",
        "                                  beta_key=\"movieId\")\n",
        "\n",
        "gmf.compile(tf.keras.optimizers.Adam(gmf_params[\"learning_rate\"]), \n",
        "            tf.keras.losses.BinaryCrossentropy(), \n",
        "            metrics=[tf.keras.metrics.BinaryAccuracy()])"
      ],
      "execution_count": 164,
      "outputs": []
    },
    {
      "cell_type": "code",
      "metadata": {
        "colab": {
          "base_uri": "https://localhost:8080/"
        },
        "id": "ICn6R737RgzA",
        "outputId": "edccfa15-9fa6-42e6-ad77-c5ea6cdc7a98"
      },
      "source": [
        "#Fitting\n",
        "historyGMF= gmf.fit(train_ds.batch(gmf_params[\"batch_size\"]), \n",
        "                    epochs=gmf_params[\"epochs\"], \n",
        "                    validation_data=eval_ds, \n",
        "                    callbacks=[tf.keras.callbacks.EarlyStopping(patience=3)])"
      ],
      "execution_count": 165,
      "outputs": [
        {
          "output_type": "stream",
          "text": [
            "Epoch 1/50\n",
            "356/356 [==============================] - 3s 5ms/step - loss: 0.5414 - binary_accuracy: 0.8626 - val_loss: 0.4375 - val_binary_accuracy: 0.8711\n",
            "Epoch 2/50\n",
            "356/356 [==============================] - 1s 4ms/step - loss: 0.4174 - binary_accuracy: 0.8691 - val_loss: 0.3929 - val_binary_accuracy: 0.8711\n",
            "Epoch 3/50\n",
            "356/356 [==============================] - 1s 4ms/step - loss: 0.4004 - binary_accuracy: 0.8691 - val_loss: 0.3868 - val_binary_accuracy: 0.8711\n",
            "Epoch 4/50\n",
            "356/356 [==============================] - 1s 4ms/step - loss: 0.3969 - binary_accuracy: 0.8692 - val_loss: 0.3805 - val_binary_accuracy: 0.8705\n",
            "Epoch 5/50\n",
            "356/356 [==============================] - 2s 4ms/step - loss: 0.3861 - binary_accuracy: 0.8713 - val_loss: 0.3700 - val_binary_accuracy: 0.8729\n",
            "Epoch 6/50\n",
            "356/356 [==============================] - 1s 4ms/step - loss: 0.3768 - binary_accuracy: 0.8732 - val_loss: 0.3640 - val_binary_accuracy: 0.8723\n",
            "Epoch 7/50\n",
            "356/356 [==============================] - 1s 4ms/step - loss: 0.3695 - binary_accuracy: 0.8751 - val_loss: 0.3603 - val_binary_accuracy: 0.8731\n",
            "Epoch 8/50\n",
            "356/356 [==============================] - 1s 4ms/step - loss: 0.3641 - binary_accuracy: 0.8755 - val_loss: 0.3580 - val_binary_accuracy: 0.8735\n",
            "Epoch 9/50\n",
            "356/356 [==============================] - 2s 4ms/step - loss: 0.3602 - binary_accuracy: 0.8758 - val_loss: 0.3578 - val_binary_accuracy: 0.8733\n",
            "Epoch 10/50\n",
            "356/356 [==============================] - 2s 4ms/step - loss: 0.3571 - binary_accuracy: 0.8757 - val_loss: 0.3553 - val_binary_accuracy: 0.8745\n",
            "Epoch 11/50\n",
            "356/356 [==============================] - 1s 4ms/step - loss: 0.3551 - binary_accuracy: 0.8763 - val_loss: 0.3544 - val_binary_accuracy: 0.8754\n",
            "Epoch 12/50\n",
            "356/356 [==============================] - 1s 4ms/step - loss: 0.3518 - binary_accuracy: 0.8773 - val_loss: 0.3536 - val_binary_accuracy: 0.8756\n",
            "Epoch 13/50\n",
            "356/356 [==============================] - 2s 4ms/step - loss: 0.3492 - binary_accuracy: 0.8776 - val_loss: 0.3523 - val_binary_accuracy: 0.8750\n",
            "Epoch 14/50\n",
            "356/356 [==============================] - 1s 4ms/step - loss: 0.3490 - binary_accuracy: 0.8772 - val_loss: 0.3516 - val_binary_accuracy: 0.8750\n",
            "Epoch 15/50\n",
            "356/356 [==============================] - 1s 4ms/step - loss: 0.3467 - binary_accuracy: 0.8771 - val_loss: 0.3520 - val_binary_accuracy: 0.8760\n",
            "Epoch 16/50\n",
            "356/356 [==============================] - 1s 4ms/step - loss: 0.3457 - binary_accuracy: 0.8776 - val_loss: 0.3516 - val_binary_accuracy: 0.8750\n",
            "Epoch 17/50\n",
            "356/356 [==============================] - 2s 4ms/step - loss: 0.3431 - binary_accuracy: 0.8789 - val_loss: 0.3513 - val_binary_accuracy: 0.8745\n",
            "Epoch 18/50\n",
            "356/356 [==============================] - 1s 4ms/step - loss: 0.3424 - binary_accuracy: 0.8790 - val_loss: 0.3526 - val_binary_accuracy: 0.8754\n",
            "Epoch 19/50\n",
            "356/356 [==============================] - 2s 4ms/step - loss: 0.3410 - binary_accuracy: 0.8787 - val_loss: 0.3515 - val_binary_accuracy: 0.8747\n",
            "Epoch 20/50\n",
            "356/356 [==============================] - 2s 4ms/step - loss: 0.3415 - binary_accuracy: 0.8784 - val_loss: 0.3513 - val_binary_accuracy: 0.8750\n"
          ],
          "name": "stdout"
        }
      ]
    },
    {
      "cell_type": "code",
      "metadata": {
        "colab": {
          "base_uri": "https://localhost:8080/"
        },
        "id": "VAt_4CWuR1vE",
        "outputId": "d3d7844e-8084-498f-af0e-c09f69eedfd7"
      },
      "source": [
        "gmf.evaluate(test_ds)"
      ],
      "execution_count": 166,
      "outputs": [
        {
          "output_type": "stream",
          "text": [
            "1/1 [==============================] - 0s 27ms/step - loss: 0.3623 - binary_accuracy: 0.8752\n"
          ],
          "name": "stdout"
        },
        {
          "output_type": "execute_result",
          "data": {
            "text/plain": [
              "[0.3622564375400543, 0.875156581401825]"
            ]
          },
          "metadata": {},
          "execution_count": 166
        }
      ]
    },
    {
      "cell_type": "markdown",
      "metadata": {
        "id": "i7vKnynAR5wT"
      },
      "source": [
        "Neural Collaborative Filtering"
      ]
    },
    {
      "cell_type": "code",
      "metadata": {
        "id": "3n7MGIN5R2KT"
      },
      "source": [
        "class DeepFeedForward(tf.keras.Model):\n",
        "\n",
        "  def __init__(self, layers, dropout=0.1, l2=0.001):\n",
        "    super(DeepFeedForward, self).__init__()\n",
        "\n",
        "    self.block_list = list()\n",
        "    for layer in layers:\n",
        "      self.block_list.append(DenseBlock(layer, \"relu\", dropout, l2))\n",
        "    \n",
        "  def call(self, inputs):\n",
        "\n",
        "    X = inputs\n",
        "    for layer in self.block_list:\n",
        "      X = layer(X)\n",
        "    return X"
      ],
      "execution_count": 167,
      "outputs": []
    },
    {
      "cell_type": "code",
      "metadata": {
        "id": "hOBWFH9OR2Z6"
      },
      "source": [
        "class NCFNetwork(tf.keras.Model):\n",
        "\n",
        "  def __init__(self, \n",
        "               alpha_dim, \n",
        "               beta_dim, \n",
        "               latent_dim, \n",
        "               layers, \n",
        "               output_activation=\"sigmoid\",\n",
        "               use_bias=False, \n",
        "               dropout=0.1, \n",
        "               l2=0.001, \n",
        "               alpha_key=\"alpha\", \n",
        "               beta_key=\"beta\"):\n",
        "    \n",
        "    super(NCFNetwork, self).__init__()\n",
        "\n",
        "    self.alpha_key = alpha_key\n",
        "    self.beta_key = beta_key\n",
        "    self.use_bias = use_bias\n",
        "\n",
        "    self.alpha_emb = tf.keras.layers.Embedding(alpha_dim, latent_dim, embeddings_regularizer=tf.keras.regularizers.L1L2(l2=l2))\n",
        "    self.beta_emb = tf.keras.layers.Embedding(beta_dim, latent_dim, embeddings_regularizer=tf.keras.regularizers.L1L2(l2=l2))\n",
        "\n",
        "    if(use_bias):\n",
        "      self.alpha_bias = tf.keras.layers.Embedding(alpha_dim, 1)\n",
        "      self.beta_bias = tf.keras.layers.Embedding(beta_dim, 1)\n",
        "    \n",
        "    self.flat = tf.keras.layers.Flatten()\n",
        "    self.feedforward = DeepFeedForward(layers[:-1], dropout, l2)\n",
        "    self.dense_out = DenseBlock(layers[-1], output_activation, dropout, l2)\n",
        "\n",
        "  def call(self, inputs):\n",
        "\n",
        "    alpha_emb = self.flat(self.alpha_emb(inputs[self.alpha_key]))\n",
        "    beta_emb = self.flat(self.beta_emb(inputs[self.beta_key]))\n",
        "    X = tf.concat([alpha_emb, beta_emb], axis=-1)\n",
        "\n",
        "    if(self.use_bias):\n",
        "      alpha_bias = self.flat(self.alpha_bias(inputs[self.alpha_key]))\n",
        "      beta_bias = self.flat(self.beta_bias(inputs[self.beta_key]))\n",
        "      bias = tf.add(alpha_bias, beta_bias)\n",
        "      X = tf.add(X, bias)\n",
        "\n",
        "    X = self.feedforward(X)\n",
        "    X = self.dense_out(X)\n",
        "    return X"
      ],
      "execution_count": 168,
      "outputs": []
    },
    {
      "cell_type": "code",
      "metadata": {
        "id": "ozNgJzZAR2pU"
      },
      "source": [
        "#Hyper parameters\n",
        "ncf_params = {\"alpha_dim\":n_users,\n",
        "              \"beta_dim\":n_movies,\n",
        "              \"latent_dim\":8,\n",
        "              \"layers\":[32, 16, 8, 1],\n",
        "              \"output_activation\":\"sigmoid\",\n",
        "              \"use_bias\":False,\n",
        "              \"dropout\":0.4,\n",
        "              \"l2\":0.001,\n",
        "              \"learning_rate\":0.001,\n",
        "              \"batch_size\":256,\n",
        "              \"epochs\":50}"
      ],
      "execution_count": 169,
      "outputs": []
    },
    {
      "cell_type": "code",
      "metadata": {
        "id": "7Id2NNvUR25z"
      },
      "source": [
        "#Instantiation\n",
        "ncf = NCFNetwork(alpha_dim=ncf_params[\"alpha_dim\"], \n",
        "                 beta_dim=ncf_params[\"beta_dim\"], \n",
        "                 latent_dim=ncf_params[\"latent_dim\"], \n",
        "                 layers=ncf_params[\"layers\"],\n",
        "                 output_activation=ncf_params[\"output_activation\"],\n",
        "                 use_bias=ncf_params[\"use_bias\"],\n",
        "                 dropout=ncf_params[\"dropout\"], \n",
        "                 l2=ncf_params[\"l2\"], \n",
        "                 alpha_key=\"userId\",\n",
        "                 beta_key=\"movieId\")\n",
        "\n",
        "ncf.compile(tf.keras.optimizers.Adam(ncf_params[\"learning_rate\"]), \n",
        "            tf.keras.losses.BinaryCrossentropy(),\n",
        "            metrics=[tf.keras.metrics.BinaryAccuracy()])"
      ],
      "execution_count": 170,
      "outputs": []
    },
    {
      "cell_type": "code",
      "metadata": {
        "colab": {
          "base_uri": "https://localhost:8080/"
        },
        "id": "1pBPECT2SJ_z",
        "outputId": "c9b97db2-fa16-48c8-8c7d-39544b9bdeb0"
      },
      "source": [
        "#Fitting\n",
        "historyNCF= historyN=ncf.fit(train_ds.batch(ncf_params[\"batch_size\"]), \n",
        "                             epochs=ncf_params[\"epochs\"], \n",
        "                             validation_data=eval_ds, \n",
        "                             callbacks=[tf.keras.callbacks.EarlyStopping(patience=3)])"
      ],
      "execution_count": 171,
      "outputs": [
        {
          "output_type": "stream",
          "text": [
            "Epoch 1/50\n",
            "356/356 [==============================] - 5s 6ms/step - loss: 0.6817 - binary_accuracy: 0.6970 - val_loss: 0.5101 - val_binary_accuracy: 0.8711\n",
            "Epoch 2/50\n",
            "356/356 [==============================] - 2s 6ms/step - loss: 0.5022 - binary_accuracy: 0.8591 - val_loss: 0.4464 - val_binary_accuracy: 0.8711\n",
            "Epoch 3/50\n",
            "356/356 [==============================] - 2s 6ms/step - loss: 0.4577 - binary_accuracy: 0.8670 - val_loss: 0.4093 - val_binary_accuracy: 0.8711\n",
            "Epoch 4/50\n",
            "356/356 [==============================] - 2s 6ms/step - loss: 0.4276 - binary_accuracy: 0.8690 - val_loss: 0.3868 - val_binary_accuracy: 0.8719\n",
            "Epoch 5/50\n",
            "356/356 [==============================] - 2s 6ms/step - loss: 0.4107 - binary_accuracy: 0.8691 - val_loss: 0.3823 - val_binary_accuracy: 0.8715\n",
            "Epoch 6/50\n",
            "356/356 [==============================] - 2s 6ms/step - loss: 0.3997 - binary_accuracy: 0.8708 - val_loss: 0.3841 - val_binary_accuracy: 0.8721\n",
            "Epoch 7/50\n",
            "356/356 [==============================] - 2s 6ms/step - loss: 0.3944 - binary_accuracy: 0.8709 - val_loss: 0.3814 - val_binary_accuracy: 0.8739\n",
            "Epoch 8/50\n",
            "356/356 [==============================] - 2s 6ms/step - loss: 0.3912 - binary_accuracy: 0.8712 - val_loss: 0.3809 - val_binary_accuracy: 0.8725\n",
            "Epoch 9/50\n",
            "356/356 [==============================] - 2s 6ms/step - loss: 0.3910 - binary_accuracy: 0.8701 - val_loss: 0.3830 - val_binary_accuracy: 0.8715\n",
            "Epoch 10/50\n",
            "356/356 [==============================] - 2s 6ms/step - loss: 0.3888 - binary_accuracy: 0.8714 - val_loss: 0.3838 - val_binary_accuracy: 0.8721\n",
            "Epoch 11/50\n",
            "356/356 [==============================] - 2s 6ms/step - loss: 0.3877 - binary_accuracy: 0.8710 - val_loss: 0.3873 - val_binary_accuracy: 0.8717\n"
          ],
          "name": "stdout"
        }
      ]
    },
    {
      "cell_type": "code",
      "metadata": {
        "colab": {
          "base_uri": "https://localhost:8080/"
        },
        "id": "tWj9MWDoSL-A",
        "outputId": "fb08e6c9-5533-47f6-bca7-4c6b560aa987"
      },
      "source": [
        "ncf.evaluate(test_ds)"
      ],
      "execution_count": 172,
      "outputs": [
        {
          "output_type": "stream",
          "text": [
            "1/1 [==============================] - 0s 29ms/step - loss: 0.3922 - binary_accuracy: 0.8685\n"
          ],
          "name": "stdout"
        },
        {
          "output_type": "execute_result",
          "data": {
            "text/plain": [
              "[0.39222198724746704, 0.8684759736061096]"
            ]
          },
          "metadata": {},
          "execution_count": 172
        }
      ]
    },
    {
      "cell_type": "markdown",
      "metadata": {
        "id": "cf-DCaoySO1l"
      },
      "source": [
        "Naural Matrix Factorization"
      ]
    },
    {
      "cell_type": "code",
      "metadata": {
        "id": "MCTQtdwxSOdv"
      },
      "source": [
        "class NeuMF(tf.keras.Model):\n",
        "\n",
        "  def __init__(self, \n",
        "               alpha_dim, \n",
        "               beta_dim, \n",
        "               NCF_latent_dim, \n",
        "               GMF_latent_dim, \n",
        "               NCF_layers,\n",
        "               GMF_output_dim, \n",
        "               NeuMF_output_dim,\n",
        "               NCF_output_activation=\"relu\",\n",
        "               GMF_output_activation=\"relu\",\n",
        "               NeuMF_output_activation=\"sigmoid\", \n",
        "               output_weight=0.5, \n",
        "               use_bias=False, \n",
        "               dropout=0.1, \n",
        "               l2=0.001, \n",
        "               alpha_key=\"alpha\", \n",
        "               beta_key=\"beta\"):\n",
        "    \n",
        "    super(NeuMF, self).__init__()\n",
        "\n",
        "    self.output_weight = output_weight\n",
        "\n",
        "    self.NCF = NCFNetwork(alpha_dim, \n",
        "                          beta_dim, \n",
        "                          NCF_latent_dim, \n",
        "                          NCF_layers, \n",
        "                          NCF_output_activation, \n",
        "                          use_bias, \n",
        "                          dropout, \n",
        "                          l2, \n",
        "                          alpha_key, \n",
        "                          beta_key)\n",
        "    \n",
        "    self.GMF = GeneralizedMatrixFactorizer(alpha_dim, \n",
        "                                           beta_dim, \n",
        "                                           GMF_latent_dim, \n",
        "                                           GMF_output_dim, \n",
        "                                           GMF_output_activation, \n",
        "                                           use_bias, \n",
        "                                           dropout, \n",
        "                                           l2, \n",
        "                                           alpha_key, \n",
        "                                           beta_key)\n",
        "    \n",
        "    self.dense_out = DenseBlock(NeuMF_output_dim, NeuMF_output_activation, dropout, l2)\n",
        "\n",
        "  def call(self, inputs):\n",
        "    ncf = self.NCF(inputs) * (1.0 - self.output_weight)\n",
        "    gmf = self.GMF(inputs) * self.output_weight\n",
        "\n",
        "    X = tf.concat([ncf, gmf], axis=-1)\n",
        "    X = self.dense_out(X)\n",
        "    return X"
      ],
      "execution_count": 173,
      "outputs": []
    },
    {
      "cell_type": "code",
      "metadata": {
        "id": "h8jZbyDTSY2I"
      },
      "source": [
        "nmf_params = {\"alpha_dim\":n_users,\n",
        "              \"beta_dim\":n_movies,\n",
        "              \"NCF_latent_dim\":8, \n",
        "              \"GMF_latent_dim\":8, \n",
        "              \"NCF_layers\":[32, 16, 8, 1],\n",
        "              \"GMF_output_dim\":1, \n",
        "              \"NeuMF_output_dim\":1,\n",
        "              \"output_weight\":0.5,\n",
        "              \"use_bias\":False,\n",
        "              \"dropout\":0.4,\n",
        "              \"l2\":0.001,\n",
        "              \"learning_rate\":0.001,            #[0.0001, 0.0005, 0.001, 0.005]\n",
        "              \"batch_size\":256,                 #[128, 256, 512, 1024]\n",
        "              \"epochs\":50}"
      ],
      "execution_count": 174,
      "outputs": []
    },
    {
      "cell_type": "code",
      "metadata": {
        "id": "dT2e6qGrSZLT"
      },
      "source": [
        "#Instantiation\n",
        "nmf = NeuMF(alpha_dim=nmf_params[\"alpha_dim\"], \n",
        "            beta_dim=nmf_params[\"beta_dim\"], \n",
        "            NCF_latent_dim=nmf_params[\"NCF_latent_dim\"],\n",
        "            GMF_latent_dim=nmf_params[\"GMF_latent_dim\"],\n",
        "            NCF_layers=nmf_params[\"NCF_layers\"],\n",
        "            GMF_output_dim=nmf_params[\"GMF_output_dim\"],\n",
        "            NeuMF_output_dim=nmf_params[\"NeuMF_output_dim\"],\n",
        "            output_weight=nmf_params[\"output_weight\"],\n",
        "            use_bias=nmf_params[\"use_bias\"], \n",
        "            dropout=nmf_params[\"dropout\"],\n",
        "            l2=nmf_params[\"l2\"], \n",
        "            alpha_key=\"userId\", \n",
        "            beta_key=\"movieId\")\n",
        "\n",
        "nmf.compile(tf.keras.optimizers.Adam(nmf_params[\"learning_rate\"]), \n",
        "            tf.keras.losses.BinaryCrossentropy(), \n",
        "            metrics=[tf.keras.metrics.BinaryAccuracy()])\n"
      ],
      "execution_count": 175,
      "outputs": []
    },
    {
      "cell_type": "code",
      "metadata": {
        "colab": {
          "base_uri": "https://localhost:8080/"
        },
        "id": "8V_fpjMISZg_",
        "outputId": "4c982f1d-8929-4cb8-e192-c7868fb39824"
      },
      "source": [
        "#Fitting\n",
        "historyNM=nmf.fit(train_ds.batch(nmf_params[\"batch_size\"]), \n",
        "                  epochs=nmf_params[\"epochs\"], \n",
        "                  validation_data=eval_ds, \n",
        "                  callbacks=[tf.keras.callbacks.EarlyStopping(patience=3)])"
      ],
      "execution_count": 176,
      "outputs": [
        {
          "output_type": "stream",
          "text": [
            "Epoch 1/50\n",
            "356/356 [==============================] - 6s 8ms/step - loss: 0.6633 - binary_accuracy: 0.8289 - val_loss: 0.5520 - val_binary_accuracy: 0.8711\n",
            "Epoch 2/50\n",
            "356/356 [==============================] - 3s 7ms/step - loss: 0.5265 - binary_accuracy: 0.8639 - val_loss: 0.4635 - val_binary_accuracy: 0.8713\n",
            "Epoch 3/50\n",
            "356/356 [==============================] - 3s 7ms/step - loss: 0.4726 - binary_accuracy: 0.8685 - val_loss: 0.4290 - val_binary_accuracy: 0.8715\n",
            "Epoch 4/50\n",
            "356/356 [==============================] - 3s 7ms/step - loss: 0.4549 - binary_accuracy: 0.8706 - val_loss: 0.4171 - val_binary_accuracy: 0.8703\n",
            "Epoch 5/50\n",
            "356/356 [==============================] - 3s 7ms/step - loss: 0.4456 - binary_accuracy: 0.8715 - val_loss: 0.4126 - val_binary_accuracy: 0.8707\n",
            "Epoch 6/50\n",
            "356/356 [==============================] - 3s 7ms/step - loss: 0.4384 - binary_accuracy: 0.8733 - val_loss: 0.4138 - val_binary_accuracy: 0.8721\n",
            "Epoch 7/50\n",
            "356/356 [==============================] - 3s 7ms/step - loss: 0.4303 - binary_accuracy: 0.8747 - val_loss: 0.4154 - val_binary_accuracy: 0.8713\n",
            "Epoch 8/50\n",
            "356/356 [==============================] - 3s 7ms/step - loss: 0.4275 - binary_accuracy: 0.8747 - val_loss: 0.4139 - val_binary_accuracy: 0.8725\n"
          ],
          "name": "stdout"
        }
      ]
    },
    {
      "cell_type": "code",
      "metadata": {
        "colab": {
          "base_uri": "https://localhost:8080/"
        },
        "id": "HkoyiV5zSiBK",
        "outputId": "5cd09aa6-5199-40b9-964f-fa99218534a0"
      },
      "source": [
        "nmf.evaluate(test_ds)"
      ],
      "execution_count": 177,
      "outputs": [
        {
          "output_type": "stream",
          "text": [
            "1/1 [==============================] - 0s 32ms/step - loss: 0.4217 - binary_accuracy: 0.8683\n"
          ],
          "name": "stdout"
        },
        {
          "output_type": "execute_result",
          "data": {
            "text/plain": [
              "[0.42174768447875977, 0.8682672381401062]"
            ]
          },
          "metadata": {},
          "execution_count": 177
        }
      ]
    },
    {
      "cell_type": "code",
      "metadata": {
        "colab": {
          "base_uri": "https://localhost:8080/",
          "height": 388
        },
        "id": "eRutg8xEqj21",
        "outputId": "a2fa900e-1bc5-46e1-eb29-130aa57d01e1"
      },
      "source": [
        "plt.figure(figsize=(10,6)) \n",
        "plt.plot(historyNM.history['binary_accuracy'])\n",
        "plt.plot(historyNCF.history['binary_accuracy'])\n",
        "plt.plot(historyGMF.history['binary_accuracy'])\n",
        "plt.xlabel(\"Epochs\")\n",
        "plt.ylabel(\"accuracy\")\n",
        "plt.legend([\"NeuMF\",\"NCF\",\"GMF\"])\n",
        "plt.show()"
      ],
      "execution_count": 178,
      "outputs": [
        {
          "output_type": "display_data",
          "data": {
            "image/png": "[encoded data removed]",
            "text/plain": [
              "<Figure size 720x432 with 1 Axes>"
            ]
          },
          "metadata": {
            "needs_background": "light"
          }
        }
      ]
    }
  ]
}