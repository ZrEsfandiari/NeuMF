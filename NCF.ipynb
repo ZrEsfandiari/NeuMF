{
  "nbformat": 4,
  "nbformat_minor": 0,
  "metadata": {
    "colab": {
      "name": "NCF.ipynb",
      "provenance": [],
      "collapsed_sections": []
    },
    "kernelspec": {
      "display_name": "Python 3",
      "name": "python3"
    },
    "language_info": {
      "name": "python"
    }
  },
  "cells": [
    {
      "cell_type": "code",
      "metadata": {
        "id": "xOmCVB9CbNJH"
      },
      "source": [
        "import tensorflow as tf\n",
        "import pandas as pd\n",
        "import numpy as np\n",
        "import seaborn as sns\n",
        "import matplotlib.pyplot as plt\n",
        "import os\n",
        "from sklearn.metrics import ndcg_score\n",
        "from sklearn.metrics import roc_curve, auc"
      ],
      "execution_count": 1,
      "outputs": []
    },
    {
      "cell_type": "code",
      "metadata": {
        "colab": {
          "base_uri": "https://localhost:8080/",
          "height": 204
        },
        "id": "KXgLyzy1beUI",
        "outputId": "a742ff6c-e3dc-4ac6-ae02-60b538dfc374"
      },
      "source": [
        "#Loads Dataset,  drop timestamp and genres form ratings.csv and movies.csv files\n",
        "ratings_df = pd.read_csv('/content/drive/MyDrive/ml-latest-small/ratings.csv').drop([\"timestamp\"], axis=1)\n",
        "movies_df = pd.read_csv('/content/drive/MyDrive/ml-latest-small/movies.csv').drop([\"genres\"], axis=1)\n",
        "\n",
        "ml_df = ratings_df.merge(movies_df, on=\"movieId\")\n",
        "ml_df = ml_df.reindex(columns=[\"userId\", \"movieId\", \"title\", \"rating\"])\n",
        "ml_df.head() "
      ],
      "execution_count": 2,
      "outputs": [
        {
          "output_type": "execute_result",
          "data": {
            "text/html": [
              "<div>\n",
              "<style scoped>\n",
              "    .dataframe tbody tr th:only-of-type {\n",
              "        vertical-align: middle;\n",
              "    }\n",
              "\n",
              "    .dataframe tbody tr th {\n",
              "        vertical-align: top;\n",
              "    }\n",
              "\n",
              "    .dataframe thead th {\n",
              "        text-align: right;\n",
              "    }\n",
              "</style>\n",
              "<table border=\"1\" class=\"dataframe\">\n",
              "  <thead>\n",
              "    <tr style=\"text-align: right;\">\n",
              "      <th></th>\n",
              "      <th>userId</th>\n",
              "      <th>movieId</th>\n",
              "      <th>title</th>\n",
              "      <th>rating</th>\n",
              "    </tr>\n",
              "  </thead>\n",
              "  <tbody>\n",
              "    <tr>\n",
              "      <th>0</th>\n",
              "      <td>1</td>\n",
              "      <td>1</td>\n",
              "      <td>Toy Story (1995)</td>\n",
              "      <td>4.0</td>\n",
              "    </tr>\n",
              "    <tr>\n",
              "      <th>1</th>\n",
              "      <td>5</td>\n",
              "      <td>1</td>\n",
              "      <td>Toy Story (1995)</td>\n",
              "      <td>4.0</td>\n",
              "    </tr>\n",
              "    <tr>\n",
              "      <th>2</th>\n",
              "      <td>7</td>\n",
              "      <td>1</td>\n",
              "      <td>Toy Story (1995)</td>\n",
              "      <td>4.5</td>\n",
              "    </tr>\n",
              "    <tr>\n",
              "      <th>3</th>\n",
              "      <td>15</td>\n",
              "      <td>1</td>\n",
              "      <td>Toy Story (1995)</td>\n",
              "      <td>2.5</td>\n",
              "    </tr>\n",
              "    <tr>\n",
              "      <th>4</th>\n",
              "      <td>17</td>\n",
              "      <td>1</td>\n",
              "      <td>Toy Story (1995)</td>\n",
              "      <td>4.5</td>\n",
              "    </tr>\n",
              "  </tbody>\n",
              "</table>\n",
              "</div>"
            ],
            "text/plain": [
              "   userId  movieId             title  rating\n",
              "0       1        1  Toy Story (1995)     4.0\n",
              "1       5        1  Toy Story (1995)     4.0\n",
              "2       7        1  Toy Story (1995)     4.5\n",
              "3      15        1  Toy Story (1995)     2.5\n",
              "4      17        1  Toy Story (1995)     4.5"
            ]
          },
          "metadata": {},
          "execution_count": 2
        }
      ]
    },
    {
      "cell_type": "code",
      "metadata": {
        "colab": {
          "base_uri": "https://localhost:8080/"
        },
        "id": "sKOMhdgfiNu2",
        "outputId": "13fcace5-e785-419a-dc38-93ec709526c3"
      },
      "source": [
        "#Check for nulls\n",
        "ml_df.isna().sum()"
      ],
      "execution_count": 3,
      "outputs": [
        {
          "output_type": "execute_result",
          "data": {
            "text/plain": [
              "userId     0\n",
              "movieId    0\n",
              "title      0\n",
              "rating     0\n",
              "dtype: int64"
            ]
          },
          "metadata": {},
          "execution_count": 3
        }
      ]
    },
    {
      "cell_type": "code",
      "metadata": {
        "colab": {
          "base_uri": "https://localhost:8080/"
        },
        "id": "idEr_lgTcJPQ",
        "outputId": "00364e8f-a586-46d8-8217-c8a157cdc26f"
      },
      "source": [
        "#List unique values of each column\n",
        "n_users = ml_df[\"userId\"].max()\n",
        "n_movies = ml_df[\"movieId\"].nunique()\n",
        "\n",
        "print(\"Unique Users: \" + str(n_users))\n",
        "print(\"Unique Movies: \" + str(n_movies))"
      ],
      "execution_count": 4,
      "outputs": [
        {
          "output_type": "stream",
          "text": [
            "Unique Users: 610\n",
            "Unique Movies: 9724\n"
          ],
          "name": "stdout"
        }
      ]
    },
    {
      "cell_type": "markdown",
      "metadata": {
        "id": "-YAMon8icixN"
      },
      "source": [
        "Preprocessing"
      ]
    },
    {
      "cell_type": "code",
      "metadata": {
        "colab": {
          "base_uri": "https://localhost:8080/",
          "height": 204
        },
        "id": "25BqKuSnchJh",
        "outputId": "b2d96237-6278-4c35-ca7a-927085a375e8"
      },
      "source": [
        "#Encode ratings, encode the probability of relevance of the item for the user\n",
        "ml_df[\"relevance\"] = (ml_df[\"rating\"] >= 5.0).astype(dtype=float)\n",
        "\n",
        "#Set Ids as categorical data\n",
        "ml_df[\"userId\"] = ml_df[\"userId\"].astype(\"category\").cat.codes.values\n",
        "ml_df[\"movieId\"] = ml_df[\"movieId\"].astype(\"category\").cat.codes.values\n",
        "\n",
        "ml_df.head()"
      ],
      "execution_count": 5,
      "outputs": [
        {
          "output_type": "execute_result",
          "data": {
            "text/html": [
              "<div>\n",
              "<style scoped>\n",
              "    .dataframe tbody tr th:only-of-type {\n",
              "        vertical-align: middle;\n",
              "    }\n",
              "\n",
              "    .dataframe tbody tr th {\n",
              "        vertical-align: top;\n",
              "    }\n",
              "\n",
              "    .dataframe thead th {\n",
              "        text-align: right;\n",
              "    }\n",
              "</style>\n",
              "<table border=\"1\" class=\"dataframe\">\n",
              "  <thead>\n",
              "    <tr style=\"text-align: right;\">\n",
              "      <th></th>\n",
              "      <th>userId</th>\n",
              "      <th>movieId</th>\n",
              "      <th>title</th>\n",
              "      <th>rating</th>\n",
              "      <th>relevance</th>\n",
              "    </tr>\n",
              "  </thead>\n",
              "  <tbody>\n",
              "    <tr>\n",
              "      <th>0</th>\n",
              "      <td>0</td>\n",
              "      <td>0</td>\n",
              "      <td>Toy Story (1995)</td>\n",
              "      <td>4.0</td>\n",
              "      <td>0.0</td>\n",
              "    </tr>\n",
              "    <tr>\n",
              "      <th>1</th>\n",
              "      <td>4</td>\n",
              "      <td>0</td>\n",
              "      <td>Toy Story (1995)</td>\n",
              "      <td>4.0</td>\n",
              "      <td>0.0</td>\n",
              "    </tr>\n",
              "    <tr>\n",
              "      <th>2</th>\n",
              "      <td>6</td>\n",
              "      <td>0</td>\n",
              "      <td>Toy Story (1995)</td>\n",
              "      <td>4.5</td>\n",
              "      <td>0.0</td>\n",
              "    </tr>\n",
              "    <tr>\n",
              "      <th>3</th>\n",
              "      <td>14</td>\n",
              "      <td>0</td>\n",
              "      <td>Toy Story (1995)</td>\n",
              "      <td>2.5</td>\n",
              "      <td>0.0</td>\n",
              "    </tr>\n",
              "    <tr>\n",
              "      <th>4</th>\n",
              "      <td>16</td>\n",
              "      <td>0</td>\n",
              "      <td>Toy Story (1995)</td>\n",
              "      <td>4.5</td>\n",
              "      <td>0.0</td>\n",
              "    </tr>\n",
              "  </tbody>\n",
              "</table>\n",
              "</div>"
            ],
            "text/plain": [
              "   userId  movieId             title  rating  relevance\n",
              "0       0        0  Toy Story (1995)     4.0        0.0\n",
              "1       4        0  Toy Story (1995)     4.0        0.0\n",
              "2       6        0  Toy Story (1995)     4.5        0.0\n",
              "3      14        0  Toy Story (1995)     2.5        0.0\n",
              "4      16        0  Toy Story (1995)     4.5        0.0"
            ]
          },
          "metadata": {},
          "execution_count": 5
        }
      ]
    },
    {
      "cell_type": "code",
      "metadata": {
        "colab": {
          "base_uri": "https://localhost:8080/",
          "height": 204
        },
        "id": "8Qj4e1Rtcnsf",
        "outputId": "042da232-a79b-480e-b405-bd696b03668d"
      },
      "source": [
        "#Shuffle Dataframe\n",
        "ml_df = ml_df.sample(frac=1.0).reset_index(drop=True)\n",
        "ml_df.head()"
      ],
      "execution_count": 6,
      "outputs": [
        {
          "output_type": "execute_result",
          "data": {
            "text/html": [
              "<div>\n",
              "<style scoped>\n",
              "    .dataframe tbody tr th:only-of-type {\n",
              "        vertical-align: middle;\n",
              "    }\n",
              "\n",
              "    .dataframe tbody tr th {\n",
              "        vertical-align: top;\n",
              "    }\n",
              "\n",
              "    .dataframe thead th {\n",
              "        text-align: right;\n",
              "    }\n",
              "</style>\n",
              "<table border=\"1\" class=\"dataframe\">\n",
              "  <thead>\n",
              "    <tr style=\"text-align: right;\">\n",
              "      <th></th>\n",
              "      <th>userId</th>\n",
              "      <th>movieId</th>\n",
              "      <th>title</th>\n",
              "      <th>rating</th>\n",
              "      <th>relevance</th>\n",
              "    </tr>\n",
              "  </thead>\n",
              "  <tbody>\n",
              "    <tr>\n",
              "      <th>0</th>\n",
              "      <td>482</td>\n",
              "      <td>5722</td>\n",
              "      <td>Charlie and the Chocolate Factory (2005)</td>\n",
              "      <td>4.0</td>\n",
              "      <td>0.0</td>\n",
              "    </tr>\n",
              "    <tr>\n",
              "      <th>1</th>\n",
              "      <td>311</td>\n",
              "      <td>4135</td>\n",
              "      <td>Gangs of New York (2002)</td>\n",
              "      <td>5.0</td>\n",
              "      <td>1.0</td>\n",
              "    </tr>\n",
              "    <tr>\n",
              "      <th>2</th>\n",
              "      <td>201</td>\n",
              "      <td>855</td>\n",
              "      <td>Abyss, The (1989)</td>\n",
              "      <td>5.0</td>\n",
              "      <td>1.0</td>\n",
              "    </tr>\n",
              "    <tr>\n",
              "      <th>3</th>\n",
              "      <td>476</td>\n",
              "      <td>6239</td>\n",
              "      <td>Stranger than Fiction (2006)</td>\n",
              "      <td>4.5</td>\n",
              "      <td>0.0</td>\n",
              "    </tr>\n",
              "    <tr>\n",
              "      <th>4</th>\n",
              "      <td>413</td>\n",
              "      <td>2019</td>\n",
              "      <td>Run Lola Run (Lola rennt) (1998)</td>\n",
              "      <td>5.0</td>\n",
              "      <td>1.0</td>\n",
              "    </tr>\n",
              "  </tbody>\n",
              "</table>\n",
              "</div>"
            ],
            "text/plain": [
              "   userId  movieId                                     title  rating  relevance\n",
              "0     482     5722  Charlie and the Chocolate Factory (2005)     4.0        0.0\n",
              "1     311     4135                  Gangs of New York (2002)     5.0        1.0\n",
              "2     201      855                         Abyss, The (1989)     5.0        1.0\n",
              "3     476     6239              Stranger than Fiction (2006)     4.5        0.0\n",
              "4     413     2019          Run Lola Run (Lola rennt) (1998)     5.0        1.0"
            ]
          },
          "metadata": {},
          "execution_count": 6
        }
      ]
    },
    {
      "cell_type": "code",
      "metadata": {
        "colab": {
          "base_uri": "https://localhost:8080/",
          "height": 330
        },
        "id": "8bywa3YNcv5p",
        "outputId": "8cb7ced1-d881-4010-e6dd-718cadb45751"
      },
      "source": [
        "#Test for negative sampling ratio\n",
        "rel = (ml_df[\"relevance\"] == 1.0).sum()\n",
        "non_rel = (ml_df[\"relevance\"] != 1.0).sum()\n",
        "print(\"relevance number:     \", rel ,\"\\nnon-relevance number: \", non_rel)\n",
        "\n",
        "sns.countplot(x=\"relevance\", data=ml_df)\n",
        "plt.show()\n",
        "print(\"Negative Sampling Ratio: \" + str(non_rel / rel))"
      ],
      "execution_count": 7,
      "outputs": [
        {
          "output_type": "stream",
          "text": [
            "relevance number:      13211 \n",
            "non-relevance number:  87625\n"
          ],
          "name": "stdout"
        },
        {
          "output_type": "display_data",
          "data": {
            "image/png": "[encoded data removed]",
            "text/plain": [
              "<Figure size 432x288 with 1 Axes>"
            ]
          },
          "metadata": {
            "needs_background": "light"
          }
        },
        {
          "output_type": "stream",
          "text": [
            "Negative Sampling Ratio: 6.632730300507153\n"
          ],
          "name": "stdout"
        }
      ]
    },
    {
      "cell_type": "markdown",
      "metadata": {
        "id": "1WU0vWedcw0O"
      },
      "source": [
        "Split eval, test , train"
      ]
    },
    {
      "cell_type": "code",
      "metadata": {
        "id": "bBNo9V37czTn"
      },
      "source": [
        "#Split dataset between train, eval and test\n",
        "full_df = ml_df\n",
        "eval_df = full_df.sample(frac=0.05)\n",
        "full_df = full_df.drop(eval_df.index)\n",
        "test_df = full_df.sample(frac=0.05)\n",
        "train_df = full_df.drop(test_df.index)"
      ],
      "execution_count": 8,
      "outputs": []
    },
    {
      "cell_type": "code",
      "metadata": {
        "colab": {
          "base_uri": "https://localhost:8080/",
          "height": 255
        },
        "id": "0bQ4aO8dc4Ks",
        "outputId": "fb187775-0897-42d7-db16-78e59b9981d3"
      },
      "source": [
        "#Store number of datapoints in each dataset\n",
        "train_count = train_df.shape[0]\n",
        "eval_count = eval_df.shape[0]\n",
        "test_count = test_df.shape[0]\n",
        "print(\"Train samples: \" + str(train_count))\n",
        "print(\"Evaluation samples: \" + str(eval_count))\n",
        "print(\"Test samples: \" + str(test_count))\n",
        "train_df.head()"
      ],
      "execution_count": 9,
      "outputs": [
        {
          "output_type": "stream",
          "text": [
            "Train samples: 91004\n",
            "Evaluation samples: 5042\n",
            "Test samples: 4790\n"
          ],
          "name": "stdout"
        },
        {
          "output_type": "execute_result",
          "data": {
            "text/html": [
              "<div>\n",
              "<style scoped>\n",
              "    .dataframe tbody tr th:only-of-type {\n",
              "        vertical-align: middle;\n",
              "    }\n",
              "\n",
              "    .dataframe tbody tr th {\n",
              "        vertical-align: top;\n",
              "    }\n",
              "\n",
              "    .dataframe thead th {\n",
              "        text-align: right;\n",
              "    }\n",
              "</style>\n",
              "<table border=\"1\" class=\"dataframe\">\n",
              "  <thead>\n",
              "    <tr style=\"text-align: right;\">\n",
              "      <th></th>\n",
              "      <th>userId</th>\n",
              "      <th>movieId</th>\n",
              "      <th>title</th>\n",
              "      <th>rating</th>\n",
              "      <th>relevance</th>\n",
              "    </tr>\n",
              "  </thead>\n",
              "  <tbody>\n",
              "    <tr>\n",
              "      <th>0</th>\n",
              "      <td>482</td>\n",
              "      <td>5722</td>\n",
              "      <td>Charlie and the Chocolate Factory (2005)</td>\n",
              "      <td>4.0</td>\n",
              "      <td>0.0</td>\n",
              "    </tr>\n",
              "    <tr>\n",
              "      <th>2</th>\n",
              "      <td>201</td>\n",
              "      <td>855</td>\n",
              "      <td>Abyss, The (1989)</td>\n",
              "      <td>5.0</td>\n",
              "      <td>1.0</td>\n",
              "    </tr>\n",
              "    <tr>\n",
              "      <th>3</th>\n",
              "      <td>476</td>\n",
              "      <td>6239</td>\n",
              "      <td>Stranger than Fiction (2006)</td>\n",
              "      <td>4.5</td>\n",
              "      <td>0.0</td>\n",
              "    </tr>\n",
              "    <tr>\n",
              "      <th>4</th>\n",
              "      <td>413</td>\n",
              "      <td>2019</td>\n",
              "      <td>Run Lola Run (Lola rennt) (1998)</td>\n",
              "      <td>5.0</td>\n",
              "      <td>1.0</td>\n",
              "    </tr>\n",
              "    <tr>\n",
              "      <th>5</th>\n",
              "      <td>56</td>\n",
              "      <td>2794</td>\n",
              "      <td>Big Trouble in Little China (1986)</td>\n",
              "      <td>4.0</td>\n",
              "      <td>0.0</td>\n",
              "    </tr>\n",
              "  </tbody>\n",
              "</table>\n",
              "</div>"
            ],
            "text/plain": [
              "   userId  movieId                                     title  rating  relevance\n",
              "0     482     5722  Charlie and the Chocolate Factory (2005)     4.0        0.0\n",
              "2     201      855                         Abyss, The (1989)     5.0        1.0\n",
              "3     476     6239              Stranger than Fiction (2006)     4.5        0.0\n",
              "4     413     2019          Run Lola Run (Lola rennt) (1998)     5.0        1.0\n",
              "5      56     2794        Big Trouble in Little China (1986)     4.0        0.0"
            ]
          },
          "metadata": {},
          "execution_count": 9
        }
      ]
    },
    {
      "cell_type": "code",
      "metadata": {
        "id": "3rDdftEYdHW-"
      },
      "source": [
        "#Create Datasets for train, evaluation and testing\n",
        "train_ds = tf.data.Dataset.from_tensor_slices(({\"userId\":train_df[\"userId\"],\n",
        "                                                \"movieId\":train_df[\"movieId\"]},\n",
        "                                                train_df[\"relevance\"].values.reshape([-1, 1]))).shuffle(4196)\n",
        "\n",
        "eval_ds = tf.data.Dataset.from_tensor_slices(({\"userId\":eval_df[\"userId\"],\n",
        "                                               \"movieId\":eval_df[\"movieId\"]},\n",
        "                                               eval_df[\"relevance\"].values.reshape([-1, 1]))).batch(eval_count)\n",
        "\n",
        "test_ds = tf.data.Dataset.from_tensor_slices(({\"userId\":test_df[\"userId\"],\n",
        "                                               \"movieId\":test_df[\"movieId\"]}, \n",
        "                                               test_df[\"relevance\"].values.reshape([-1, 1]))).batch(test_count)"
      ],
      "execution_count": 10,
      "outputs": []
    },
    {
      "cell_type": "markdown",
      "metadata": {
        "id": "rACZxantdXG6"
      },
      "source": [
        "Neural collaborative filtering"
      ]
    },
    {
      "cell_type": "code",
      "metadata": {
        "id": "qno8gVo1ikuA"
      },
      "source": [
        "class DenseBlock(tf.keras.layers.Layer):\n",
        "\n",
        "  def __init__(self, units, activation=\"relu\", dropout=0.1, l2=0.001):  \n",
        "    super(DenseBlock, self).__init__()\n",
        "\n",
        "    self.bn = tf.keras.layers.BatchNormalization()\n",
        "    self.drop = tf.keras.layers.Dropout(dropout)\n",
        "    self.dense = tf.keras.layers.Dense(units, \n",
        "                                       activation,\n",
        "                                       kernel_regularizer=tf.keras.regularizers.L1L2(l2=l2),\n",
        "                                       kernel_constraint=tf.keras.constraints.UnitNorm())\n",
        "    \n",
        "  def call(self, inputs):\n",
        "    X = self.bn(inputs)\n",
        "    X = self.drop(X)\n",
        "    X = self.dense(X)\n",
        "    return X"
      ],
      "execution_count": 11,
      "outputs": []
    },
    {
      "cell_type": "code",
      "metadata": {
        "id": "oShS4DHCdRFa"
      },
      "source": [
        "class DeepFeedForward(tf.keras.Model):\n",
        "\n",
        "  def __init__(self, layers, dropout=0.1, l2=0.001):\n",
        "    super(DeepFeedForward, self).__init__()\n",
        "\n",
        "    self.block_list = list()\n",
        "    for layer in layers:\n",
        "      self.block_list.append(DenseBlock(layer, \"relu\", dropout, l2))\n",
        "    \n",
        "  def call(self, inputs):\n",
        "    X = inputs\n",
        "    for layer in self.block_list:\n",
        "      X = layer(X)\n",
        "    return X"
      ],
      "execution_count": 12,
      "outputs": []
    },
    {
      "cell_type": "code",
      "metadata": {
        "id": "ItXIDFa-dbjd"
      },
      "source": [
        "class NCFNetwork(tf.keras.Model):\n",
        "\n",
        "  def __init__(self, \n",
        "               alpha_dim, \n",
        "               beta_dim, \n",
        "               latent_dim, \n",
        "               layers, \n",
        "               output_activation=\"sigmoid\",\n",
        "               use_bias=False, \n",
        "               dropout=0.1, \n",
        "               l2=0.001, \n",
        "               alpha_key=\"alpha\", \n",
        "               beta_key=\"beta\"):\n",
        "    \n",
        "    super(NCFNetwork, self).__init__() \n",
        "\n",
        "    self.alpha_key = alpha_key\n",
        "    self.beta_key = beta_key\n",
        "    self.use_bias = use_bias\n",
        "\n",
        "    self.alpha_emb = tf.keras.layers.Embedding(alpha_dim, latent_dim, \n",
        "                                               embeddings_regularizer=tf.keras.regularizers.L1L2(l2=l2))\n",
        "    self.beta_emb = tf.keras.layers.Embedding(beta_dim, latent_dim,\n",
        "                                               embeddings_regularizer=tf.keras.regularizers.L1L2(l2=l2))\n",
        "\n",
        "    if(use_bias):\n",
        "      self.alpha_bias = tf.keras.layers.Embedding(alpha_dim, 1)\n",
        "      self.beta_bias = tf.keras.layers.Embedding(beta_dim, 1)\n",
        "    \n",
        "    self.flat = tf.keras.layers.Flatten()\n",
        "    self.feedforward = DeepFeedForward(layers[:-1], dropout, l2)\n",
        "    self.dense_out = DenseBlock(layers[-1], output_activation, dropout, l2)\n",
        "\n",
        "  def call(self, inputs):\n",
        "\n",
        "    alpha_emb = self.flat(self.alpha_emb(inputs[self.alpha_key]))\n",
        "    beta_emb = self.flat(self.beta_emb(inputs[self.beta_key]))\n",
        "    X = tf.concat([alpha_emb, beta_emb], axis=-1)\n",
        "\n",
        "    if(self.use_bias):\n",
        "      alpha_bias = self.flat(self.alpha_bias(inputs[self.alpha_key]))\n",
        "      beta_bias = self.flat(self.beta_bias(inputs[self.beta_key]))\n",
        "      bias = tf.add(alpha_bias, beta_bias)\n",
        "      X = tf.add(X, bias)\n",
        "\n",
        "    X = self.feedforward(X)\n",
        "    X = self.dense_out(X)\n",
        "    return X"
      ],
      "execution_count": 13,
      "outputs": []
    },
    {
      "cell_type": "code",
      "metadata": {
        "id": "EDcIxH3VdkIM"
      },
      "source": [
        "#Hyper parameters\n",
        "ncf_params = {\"alpha_dim\":n_users,\n",
        "              \"beta_dim\":n_movies,\n",
        "              \"latent_dim\":8,                   #[8, 16, 32, 64]\n",
        "              \"layers\":[32, 16, 8, 1],\n",
        "              \"output_activation\":\"sigmoid\",\n",
        "              \"use_bias\":False,\n",
        "              \"dropout\":0.4,\n",
        "              \"l2\":0.001,\n",
        "              \"learning_rate\":0.001,            #[0.0001, 0.0005, 0.001, 0.005]\n",
        "              \"batch_size\":256,                 #[128, 256, 512, 1024]\n",
        "              \"epochs\":50}"
      ],
      "execution_count": 14,
      "outputs": []
    },
    {
      "cell_type": "code",
      "metadata": {
        "id": "aePWeb6Ddmyl"
      },
      "source": [
        "#Instantiation\n",
        "ncf = NCFNetwork(alpha_dim=ncf_params[\"alpha_dim\"], \n",
        "                 beta_dim=ncf_params[\"beta_dim\"], \n",
        "                 latent_dim=ncf_params[\"latent_dim\"], \n",
        "                 layers=ncf_params[\"layers\"],\n",
        "                 output_activation=ncf_params[\"output_activation\"],\n",
        "                 use_bias=ncf_params[\"use_bias\"],\n",
        "                 dropout=ncf_params[\"dropout\"], \n",
        "                 l2=ncf_params[\"l2\"], \n",
        "                 alpha_key=\"userId\",\n",
        "                 beta_key=\"movieId\")\n",
        "\n",
        "\n",
        "METRICS = [tf.keras.metrics.BinaryAccuracy(), \n",
        "           tf.keras.metrics.TruePositives(name='tp'),\n",
        "           tf.keras.metrics.FalsePositives(name='fp'), \n",
        "           tf.keras.metrics.TrueNegatives(name='tn'),\n",
        "           tf.keras.metrics.FalseNegatives(name='fn'),  \n",
        "           tf.keras.metrics.BinaryAccuracy(name='accuracy'),\n",
        "           tf.keras.metrics.Precision(name='precision'),\n",
        "           tf.keras.metrics.Recall(name='recall'),\n",
        "           tf.keras.metrics.AUC(name='auc'),\n",
        "           tf.keras.metrics.AUC(curve='ROC')]\n",
        "\n",
        "ncf.compile(tf.keras.optimizers.Adam(ncf_params[\"learning_rate\"]), \n",
        "            tf.keras.losses.BinaryCrossentropy(),metrics=METRICS)\n"
      ],
      "execution_count": 41,
      "outputs": []
    },
    {
      "cell_type": "code",
      "metadata": {
        "colab": {
          "base_uri": "https://localhost:8080/"
        },
        "id": "rkZVBKBEdphd",
        "outputId": "3542ffe1-0001-41bf-bd1b-22abbf53dee9"
      },
      "source": [
        "#Fitting\n",
        "history= ncf.fit(train_ds.batch(ncf_params[\"batch_size\"]), \n",
        "                 epochs=ncf_params[\"epochs\"], \n",
        "                 validation_data=eval_ds, \n",
        "                 callbacks=[tf.keras.callbacks.EarlyStopping(patience=3)])\n"
      ],
      "execution_count": 42,
      "outputs": [
        {
          "output_type": "stream",
          "text": [
            "Epoch 1/50\n",
            "356/356 [==============================] - 6s 8ms/step - loss: 0.6969 - binary_accuracy: 0.7073 - tp: 3066.0000 - fp: 17778.0000 - tn: 61304.0000 - fn: 8856.0000 - accuracy: 0.7073 - precision: 0.1471 - recall: 0.2572 - auc: 0.5239 - auc_7: 0.5239 - val_loss: 0.4959 - val_binary_accuracy: 0.8673 - val_tp: 0.0000e+00 - val_fp: 0.0000e+00 - val_tn: 4373.0000 - val_fn: 669.0000 - val_accuracy: 0.8673 - val_precision: 0.0000e+00 - val_recall: 0.0000e+00 - val_auc: 0.5484 - val_auc_7: 0.5484\n",
            "Epoch 2/50\n",
            "356/356 [==============================] - 2s 5ms/step - loss: 0.5073 - binary_accuracy: 0.8523 - tp: 582.0000 - fp: 2103.0000 - tn: 76979.0000 - fn: 11340.0000 - accuracy: 0.8523 - precision: 0.2168 - recall: 0.0488 - auc: 0.5386 - auc_7: 0.5386 - val_loss: 0.4507 - val_binary_accuracy: 0.8673 - val_tp: 0.0000e+00 - val_fp: 0.0000e+00 - val_tn: 4373.0000 - val_fn: 669.0000 - val_accuracy: 0.8673 - val_precision: 0.0000e+00 - val_recall: 0.0000e+00 - val_auc: 0.7081 - val_auc_7: 0.7081\n",
            "Epoch 3/50\n",
            "356/356 [==============================] - 2s 5ms/step - loss: 0.4629 - binary_accuracy: 0.8648 - tp: 476.0000 - fp: 860.0000 - tn: 78222.0000 - fn: 11446.0000 - accuracy: 0.8648 - precision: 0.3563 - recall: 0.0399 - auc: 0.6147 - auc_7: 0.6147 - val_loss: 0.4227 - val_binary_accuracy: 0.8673 - val_tp: 0.0000e+00 - val_fp: 0.0000e+00 - val_tn: 4373.0000 - val_fn: 669.0000 - val_accuracy: 0.8673 - val_precision: 0.0000e+00 - val_recall: 0.0000e+00 - val_auc: 0.7664 - val_auc_7: 0.7664\n",
            "Epoch 4/50\n",
            "356/356 [==============================] - 2s 5ms/step - loss: 0.4352 - binary_accuracy: 0.8668 - tp: 729.0000 - fp: 926.0000 - tn: 78156.0000 - fn: 11193.0000 - accuracy: 0.8668 - precision: 0.4405 - recall: 0.0611 - auc: 0.6965 - auc_7: 0.6965 - val_loss: 0.4033 - val_binary_accuracy: 0.8671 - val_tp: 2.0000 - val_fp: 3.0000 - val_tn: 4370.0000 - val_fn: 667.0000 - val_accuracy: 0.8671 - val_precision: 0.4000 - val_recall: 0.0030 - val_auc: 0.7956 - val_auc_7: 0.7956\n",
            "Epoch 5/50\n",
            "356/356 [==============================] - 2s 5ms/step - loss: 0.4172 - binary_accuracy: 0.8685 - tp: 917.0000 - fp: 963.0000 - tn: 78119.0000 - fn: 11005.0000 - accuracy: 0.8685 - precision: 0.4878 - recall: 0.0769 - auc: 0.7438 - auc_7: 0.7438 - val_loss: 0.3962 - val_binary_accuracy: 0.8679 - val_tp: 9.0000 - val_fp: 6.0000 - val_tn: 4367.0000 - val_fn: 660.0000 - val_accuracy: 0.8679 - val_precision: 0.6000 - val_recall: 0.0135 - val_auc: 0.8022 - val_auc_7: 0.8022\n",
            "Epoch 6/50\n",
            "356/356 [==============================] - 2s 5ms/step - loss: 0.4076 - binary_accuracy: 0.8702 - tp: 961.0000 - fp: 847.0000 - tn: 78235.0000 - fn: 10961.0000 - accuracy: 0.8702 - precision: 0.5315 - recall: 0.0806 - auc: 0.7660 - auc_7: 0.7660 - val_loss: 0.3904 - val_binary_accuracy: 0.8673 - val_tp: 11.0000 - val_fp: 11.0000 - val_tn: 4362.0000 - val_fn: 658.0000 - val_accuracy: 0.8673 - val_precision: 0.5000 - val_recall: 0.0164 - val_auc: 0.8129 - val_auc_7: 0.8129\n",
            "Epoch 7/50\n",
            "356/356 [==============================] - 2s 5ms/step - loss: 0.4005 - binary_accuracy: 0.8701 - tp: 991.0000 - fp: 888.0000 - tn: 78194.0000 - fn: 10931.0000 - accuracy: 0.8701 - precision: 0.5274 - recall: 0.0831 - auc: 0.7824 - auc_7: 0.7824 - val_loss: 0.3891 - val_binary_accuracy: 0.8695 - val_tp: 22.0000 - val_fp: 11.0000 - val_tn: 4362.0000 - val_fn: 647.0000 - val_accuracy: 0.8695 - val_precision: 0.6667 - val_recall: 0.0329 - val_auc: 0.8124 - val_auc_7: 0.8124\n",
            "Epoch 8/50\n",
            "356/356 [==============================] - 2s 5ms/step - loss: 0.3962 - binary_accuracy: 0.8708 - tp: 1031.0000 - fp: 864.0000 - tn: 78218.0000 - fn: 10891.0000 - accuracy: 0.8708 - precision: 0.5441 - recall: 0.0865 - auc: 0.7936 - auc_7: 0.7936 - val_loss: 0.3910 - val_binary_accuracy: 0.8693 - val_tp: 24.0000 - val_fp: 14.0000 - val_tn: 4359.0000 - val_fn: 645.0000 - val_accuracy: 0.8693 - val_precision: 0.6316 - val_recall: 0.0359 - val_auc: 0.8124 - val_auc_7: 0.8124\n",
            "Epoch 9/50\n",
            "356/356 [==============================] - 2s 5ms/step - loss: 0.3937 - binary_accuracy: 0.8714 - tp: 1123.0000 - fp: 902.0000 - tn: 78180.0000 - fn: 10799.0000 - accuracy: 0.8714 - precision: 0.5546 - recall: 0.0942 - auc: 0.7993 - auc_7: 0.7993 - val_loss: 0.3916 - val_binary_accuracy: 0.8709 - val_tp: 36.0000 - val_fp: 18.0000 - val_tn: 4355.0000 - val_fn: 633.0000 - val_accuracy: 0.8709 - val_precision: 0.6667 - val_recall: 0.0538 - val_auc: 0.8144 - val_auc_7: 0.8144\n",
            "Epoch 10/50\n",
            "356/356 [==============================] - 2s 5ms/step - loss: 0.3927 - binary_accuracy: 0.8708 - tp: 1074.0000 - fp: 907.0000 - tn: 78175.0000 - fn: 10848.0000 - accuracy: 0.8708 - precision: 0.5422 - recall: 0.0901 - auc: 0.8031 - auc_7: 0.8031 - val_loss: 0.3905 - val_binary_accuracy: 0.8709 - val_tp: 33.0000 - val_fp: 15.0000 - val_tn: 4358.0000 - val_fn: 636.0000 - val_accuracy: 0.8709 - val_precision: 0.6875 - val_recall: 0.0493 - val_auc: 0.8155 - val_auc_7: 0.8155\n"
          ],
          "name": "stdout"
        }
      ]
    },
    {
      "cell_type": "code",
      "metadata": {
        "colab": {
          "base_uri": "https://localhost:8080/"
        },
        "id": "sDcnZK4Ydrzg",
        "outputId": "70a262b9-c136-4662-afa4-e3dcf97f97b5"
      },
      "source": [
        "ncf.evaluate(test_ds)"
      ],
      "execution_count": 61,
      "outputs": [
        {
          "output_type": "stream",
          "text": [
            "1/1 [==============================] - 0s 37ms/step - loss: 0.3840 - binary_accuracy: 0.8747 - tp: 28.0000 - fp: 8.0000 - tn: 4162.0000 - fn: 592.0000 - accuracy: 0.8747 - precision: 0.7778 - recall: 0.0452 - auc: 0.8195 - auc_7: 0.8195\n"
          ],
          "name": "stdout"
        },
        {
          "output_type": "execute_result",
          "data": {
            "text/plain": [
              "[0.38402432203292847,\n",
              " 0.8747390508651733,\n",
              " 28.0,\n",
              " 8.0,\n",
              " 4162.0,\n",
              " 592.0,\n",
              " 0.8747390508651733,\n",
              " 0.7777777910232544,\n",
              " 0.04516129195690155,\n",
              " 0.8194742202758789,\n",
              " 0.8194742202758789]"
            ]
          },
          "metadata": {},
          "execution_count": 61
        }
      ]
    },
    {
      "cell_type": "code",
      "metadata": {
        "colab": {
          "base_uri": "https://localhost:8080/"
        },
        "id": "eRutg8xEqj21",
        "outputId": "fbd522f4-3ce7-4ccc-e4e0-ff1355962e3a"
      },
      "source": [
        "confusion_Matrix=[[history.history['tn'][-1],history.history['fp'][-1]],\n",
        "                  [history.history['fn'][-1],history.history['tp'][-1]]]\n",
        "print(\"confusion_Matrix\", confusion_Matrix)"
      ],
      "execution_count": 57,
      "outputs": [
        {
          "output_type": "stream",
          "text": [
            "confusion_Matrix [[78175.0, 907.0], [10848.0, 1074.0]]\n"
          ],
          "name": "stdout"
        }
      ]
    },
    {
      "cell_type": "code",
      "metadata": {
        "colab": {
          "base_uri": "https://localhost:8080/",
          "height": 388
        },
        "id": "xyFsMYTnFtk1",
        "outputId": "2c861cde-8c8a-43d7-d654-8be1957b44c7"
      },
      "source": [
        "plt.figure(figsize=(10,6)) \n",
        "plt.plot(history.history['loss'])\n",
        "plt.xlabel(\"Epochs\")\n",
        "plt.ylabel(\"Training Error\")\n",
        "plt.legend([\"Epoch vs. Training Error\"])\n",
        "plt.show()"
      ],
      "execution_count": 62,
      "outputs": [
        {
          "output_type": "display_data",
          "data": {
            "image/png": "[encoded data removed]",
            "text/plain": [
              "<Figure size 720x432 with 1 Axes>"
            ]
          },
          "metadata": {
            "needs_background": "light"
          }
        }
      ]
    },
    {
      "cell_type": "code",
      "metadata": {
        "colab": {
          "base_uri": "https://localhost:8080/",
          "height": 388
        },
        "id": "2MljwJlzA5eb",
        "outputId": "8c20fd6a-d0e4-4ed9-bbb5-280b979db619"
      },
      "source": [
        "plt.figure(figsize=(10,6)) \n",
        "plt.plot(history.history['binary_accuracy'])\n",
        "plt.xlabel(\"Epochs\")\n",
        "plt.ylabel(\"accuracy\")\n",
        "plt.legend([\"Epoch vs. accuracy\"])\n",
        "plt.show()"
      ],
      "execution_count": 63,
      "outputs": [
        {
          "output_type": "display_data",
          "data": {
            "image/png": "[encoded data removed]",
            "text/plain": [
              "<Figure size 720x432 with 1 Axes>"
            ]
          },
          "metadata": {
            "needs_background": "light"
          }
        }
      ]
    },
    {
      "cell_type": "code",
      "metadata": {
        "colab": {
          "base_uri": "https://localhost:8080/",
          "height": 388
        },
        "id": "DnHAmKJb-P16",
        "outputId": "d9dcf5c5-3241-4b18-e9f4-62353e38d8f6"
      },
      "source": [
        "plt.figure(figsize=(10,6)) \n",
        "plt.plot(history.history['auc'])\n",
        "plt.xlabel(\"True Positive Rate\")\n",
        "plt.ylabel(\"False Positive Rate\")\n",
        "plt.legend([\"ROC Curve\"])\n",
        "plt.show()"
      ],
      "execution_count": 59,
      "outputs": [
        {
          "output_type": "display_data",
          "data": {
            "image/png": "[encoded data removed]",
            "text/plain": [
              "<Figure size 720x432 with 1 Axes>"
            ]
          },
          "metadata": {
            "needs_background": "light"
          }
        }
      ]
    },
    {
      "cell_type": "code",
      "metadata": {
        "id": "DjYP7Y-0R0KO"
      },
      "source": [
        "# Let us get a user and see the top recommendations.\n",
        "user_id = ml_df.userId.sample(1).iloc[0]\n",
        "\n",
        "movies_watched_by_user = ml_df[ml_df.userId == user_id]\n",
        "movies_not_watched = movies_df[~movies_df[\"movieId\"].isin(movies_watched_by_user.movieId.values)][\"movieId\"]\n",
        "\n",
        "movie_ids = movies_df[\"movieId\"].unique().tolist()\n",
        "movie2movie_encoded = {x: i for i, x in enumerate(movie_ids)}\n",
        "movies_not_watched = list(set(movies_not_watched).intersection(set(movie2movie_encoded.keys())) )\n",
        "movies_not_watched = [[movie2movie_encoded.get(x)] for x in movies_not_watched]\n",
        "\n",
        "user_ids = ml_df[\"userId\"].unique().tolist()\n",
        "user2user_encoded = {x: i for i, x in enumerate(user_ids)}\n",
        "user_encoder = user2user_encoded.get(user_id)\n",
        "user_movie_array = np.hstack(([[user_encoder]] * len(movies_not_watched), movies_not_watched))\n",
        "\n",
        "ratings = ncf.predict(user_movie_array).flatten() \n",
        "top_ratings_indices = ratings.argsort()[-10:][::-1]\n",
        "recommended_movie_ids = [movie_encoded2movie.get(movies_not_watched[x][0]) for x in top_ratings_indices]\n",
        "\n",
        "print(\"Showing recommendations for user: {}\".format(user_id))\n",
        "print(\"====\" * 9)\n",
        "print(\"Movies with high ratings from user\")\n",
        "print(\"----\" * 8)\n",
        "\n",
        "top_movies_user = (movies_watched_by_user.sort_values(by=\"rating\", ascending=False).head(5).movieId.values)\n",
        "movies_df_rows = movies_df[movies_df[\"movieId\"].isin(top_movies_user)]\n",
        "\n",
        "for row in movies_df_rows.itertuples():\n",
        "    print(row.title, \":\", row.genres)\n",
        "print(\"----\" * 8)\n",
        "print(\"Top 10 movie recommendations\")\n",
        "print(\"----\" * 8)\n",
        "\n",
        "recommended_movies = movies_df[movies_df[\"movieId\"].isin(recommended_movie_ids)]\n",
        "for row in recommended_movies.itertuples():\n",
        "    print(row.title, \":\", row.genres)"
      ],
      "execution_count": null,
      "outputs": []
    }
  ]
}